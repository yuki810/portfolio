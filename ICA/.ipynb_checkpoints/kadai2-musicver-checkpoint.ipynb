{
 "cells": [
  {
   "cell_type": "code",
   "execution_count": 1,
   "metadata": {},
   "outputs": [
    {
     "name": "stdout",
     "output_type": "stream",
     "text": [
      "44100\n",
      "[0 0 0 ... 0 0 0]\n",
      "44100\n",
      "[0 0 0 ... 0 0 0]\n"
     ]
    }
   ],
   "source": [
    "#データ読み込み\n",
    "import numpy as np\n",
    "from scipy.io.wavfile import read\n",
    "rate1, data1 = read('./data/music1.wav')\n",
    "print(rate1)\n",
    "print(data1)\n",
    "\n",
    "rate2, data2 = read('./data/music2.wav')\n",
    "print(rate2)\n",
    "print(data2)"
   ]
  },
  {
   "cell_type": "code",
   "execution_count": 2,
   "metadata": {},
   "outputs": [
    {
     "name": "stdout",
     "output_type": "stream",
     "text": [
      "[[12.71622672 12.71622672 12.71622672 ... 12.71622672 12.71622672\n",
      "  12.71622672]\n",
      " [11.71374043 11.71374043 11.71374043 ... 11.71374043 11.71374043\n",
      "  11.71374043]]\n"
     ]
    }
   ],
   "source": [
    "list1 = np.array(data1)\n",
    "list2 = np.array(data2)\n",
    "\n",
    "list1 = list1 - np.average(list1)\n",
    "list2 = list2 - np.average(list2)\n",
    "x = np.append([list1], [list2], axis=0)\n",
    "print(x)"
   ]
  },
  {
   "cell_type": "code",
   "execution_count": 3,
   "metadata": {},
   "outputs": [
    {
     "name": "stdout",
     "output_type": "stream",
     "text": [
      "[[30024024.9466943  30048001.43586282]\n",
      " [30048001.43586282 35162039.25286371]]\n"
     ]
    }
   ],
   "source": [
    "#共分散行列\n",
    "cov = np.cov(x, rowvar=1, bias=1)\n",
    "print(cov)"
   ]
  },
  {
   "cell_type": "code",
   "execution_count": 4,
   "metadata": {},
   "outputs": [
    {
     "name": "stdout",
     "output_type": "stream",
     "text": [
      "[ 2435409.71269062 62750654.48686738]\n",
      "[[0.00064079 0.        ]\n",
      " [0.         0.00012624]]\n",
      "[[-0.73660912 -0.67631871]\n",
      " [ 0.67631871 -0.73660912]]\n",
      "[[ 1.00000000e+00 -5.46299003e-18]\n",
      " [-5.46299003e-18  1.00000000e+00]]\n"
     ]
    }
   ],
   "source": [
    "#固有値分解\n",
    "eig, E = np.linalg.eig(cov)#固有値、固有ベクトル\n",
    "print(eig)\n",
    "eig[0] = 1/np.sqrt(eig[0])\n",
    "eig[1] = 1/np.sqrt(eig[1])\n",
    "D=np.diag(eig)#対角化\n",
    "print(D)\n",
    "print(E)\n",
    "print(np.dot(E, E.T))"
   ]
  },
  {
   "cell_type": "code",
   "execution_count": 5,
   "metadata": {},
   "outputs": [
    {
     "name": "stdout",
     "output_type": "stream",
     "text": [
      "[[ 0.00040543 -0.00025634]\n",
      " [-0.00025634  0.0003616 ]]\n",
      "[[0.00215283 0.00215283 0.00215283 ... 0.00215283 0.00215283 0.00215283]\n",
      " [0.00097598 0.00097598 0.00097598 ... 0.00097598 0.00097598 0.00097598]]\n",
      "[[1.00000000e+00 4.79796357e-15]\n",
      " [4.79796357e-15 1.00000000e+00]]\n"
     ]
    }
   ],
   "source": [
    "#新しい確率変数の導入\n",
    "V = np.dot(np.dot(E, D), E.T)\n",
    "print(V)\n",
    "\n",
    "z = np.dot(V, x)\n",
    "print(z)\n",
    "\n",
    "covz = np.cov(z, rowvar=1, bias=1)\n",
    "print(covz)"
   ]
  },
  {
   "cell_type": "code",
   "execution_count": 6,
   "metadata": {},
   "outputs": [
    {
     "name": "stdout",
     "output_type": "stream",
     "text": [
      "[[ 0.99760209 -0.0692103 ]\n",
      " [ 0.08060801  0.99674588]]\n",
      "[[0.00208012 0.00208012 0.00208012 ... 0.00208012 0.00208012 0.00208012]\n",
      " [0.00114634 0.00114634 0.00114634 ... 0.00114634 0.00114634 0.00114634]]\n"
     ]
    }
   ],
   "source": [
    "#yの尖度の絶対値を最大化\n",
    "import math\n",
    "prew1 = np.array([0, 0])\n",
    "w1 = np.array([1, 0])\n",
    "count = 0\n",
    "\n",
    "while (math.isclose(prew1[0], w1[0]) == False or math.isclose(prew1[1], w1[1]) == False) and count < 100:\n",
    "    prew1 = w1\n",
    "    w1 = np.dot(z, np.dot(w1, z)**3)/3142-3*w1.T\n",
    "    w1 = w1/np.linalg.norm(w1)\n",
    "    if w1[0]<0:w1 = -w1\n",
    "    count += 1  \n",
    "    \n",
    "prew2 = np.array([0, 0])\n",
    "w2 = np.array([0, 1])\n",
    "count = 0\n",
    "\n",
    "while (math.isclose(prew2[0], w2[0]) == False or math.isclose(prew2[1], w2[1]) == False) and count < 100:\n",
    "    prew2 = w2\n",
    "    w2 = np.dot(z, np.dot(w2, z)**3)/3142-3*w2.T\n",
    "    w2 = w2/np.linalg.norm(w2)\n",
    "    if w2[0]<0:w2 = -w2\n",
    "    count += 1\n",
    "    \n",
    "W = np.append([w1], [w2], axis=0)\n",
    "print(W)\n",
    "y = np.dot(W, z)\n",
    "print(y)"
   ]
  },
  {
   "cell_type": "code",
   "execution_count": 7,
   "metadata": {},
   "outputs": [],
   "source": [
    "from scipy.io.wavfile import write\n",
    "write('./ans/music1ans.wav', rate1, y[0])"
   ]
  },
  {
   "cell_type": "code",
   "execution_count": 8,
   "metadata": {},
   "outputs": [],
   "source": [
    "write('./ans/music2ans.wav', rate2, y[1])"
   ]
  },
  {
   "cell_type": "code",
   "execution_count": null,
   "metadata": {},
   "outputs": [],
   "source": []
  }
 ],
 "metadata": {
  "kernelspec": {
   "display_name": "Python 3",
   "language": "python",
   "name": "python3"
  },
  "language_info": {
   "codemirror_mode": {
    "name": "ipython",
    "version": 3
   },
   "file_extension": ".py",
   "mimetype": "text/x-python",
   "name": "python",
   "nbconvert_exporter": "python",
   "pygments_lexer": "ipython3",
   "version": "3.8.3"
  }
 },
 "nbformat": 4,
 "nbformat_minor": 4
}
